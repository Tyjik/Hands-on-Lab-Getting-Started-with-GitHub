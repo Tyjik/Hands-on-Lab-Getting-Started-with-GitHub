{
 "cells": [
  {
   "cell_type": "markdown",
   "id": "5c917370-1ed4-4718-83f4-75a469ae16d9",
   "metadata": {},
   "source": [
    "# Data Science Tools and Ecosystem"
   ]
  },
  {
   "cell_type": "markdown",
   "id": "cb43e03f-e032-45b5-8e74-41d1e95c5401",
   "metadata": {},
   "source": [
    "In this notebook, Data Science Tools and Ecosystem are summarized."
   ]
  },
  {
   "cell_type": "markdown",
   "id": "3aabca5f-9d74-40a1-a0a1-a5bc13627569",
   "metadata": {},
   "source": [
    "**Objectives:**\n",
    "- List popular languages for Data Science\n",
    "- List commonly used libraries used by Data Scientists\n",
    "- Examples of evaluating arithmetic expressions in Python"
   ]
  },
  {
   "cell_type": "markdown",
   "id": "d5d4ab22-96b7-4529-8335-7ea491a4a79d",
   "metadata": {},
   "source": [
    "Some of the popular languages that Data Scientists use are:\n",
    "1. SQL\n",
    "1. R\n",
    "1. Python  "
   ]
  },
  {
   "cell_type": "markdown",
   "id": "c8003e91-9cb3-4a3f-a2f8-1d830c053758",
   "metadata": {},
   "source": [
    "Some of the commonly used libraries used by Data Scientists include:\n",
    "1. ggplot\n",
    "2. Lattice\n",
    "3. Pandas"
   ]
  },
  {
   "cell_type": "markdown",
   "id": "92ad7e53-6de8-45a9-8d35-dfbd63e6b6bc",
   "metadata": {},
   "source": [
    "| Data Science Tools |\n",
    "| ---- |\n",
    "| Apache Spark |\n",
    "| Jupyter Notebook |\n",
    "| RStudio|"
   ]
  },
  {
   "cell_type": "markdown",
   "id": "233a7af1-611c-444f-8193-2a87c2873aa5",
   "metadata": {},
   "source": [
    "### Below are a few examples of evaluating arithmetic expressions in Python"
   ]
  },
  {
   "cell_type": "code",
   "execution_count": 4,
   "id": "51a54ead-a847-4e38-9892-e2073197f95a",
   "metadata": {},
   "outputs": [
    {
     "data": {
      "text/plain": [
       "17"
      ]
     },
     "execution_count": 4,
     "metadata": {},
     "output_type": "execute_result"
    }
   ],
   "source": [
    "# This a simple arithmetic expression to mutiply then add integers\n",
    "(3*4)+5"
   ]
  },
  {
   "cell_type": "code",
   "execution_count": 12,
   "id": "ccf72579-06d6-419c-acd0-2161859898a4",
   "metadata": {},
   "outputs": [
    {
     "name": "stdout",
     "output_type": "stream",
     "text": [
      "3.3333333333333335 hours\n"
     ]
    }
   ],
   "source": [
    "# This will convert 200 minutes to hours by diving by 60\n",
    "\n",
    "hours = 200/60 \n",
    "print(hours,\"hours\")"
   ]
  },
  {
   "cell_type": "markdown",
   "id": "302f185e-bed5-4e77-985f-8ec3b9ba92dd",
   "metadata": {},
   "source": [
    "## Author\n",
    "Dorot Daniel Beniamin"
   ]
  }
 ],
 "metadata": {
  "kernelspec": {
   "display_name": "Python [conda env:prenvironment]",
   "language": "python",
   "name": "conda-env-prenvironment-py"
  },
  "language_info": {
   "codemirror_mode": {
    "name": "ipython",
    "version": 3
   },
   "file_extension": ".py",
   "mimetype": "text/x-python",
   "name": "python",
   "nbconvert_exporter": "python",
   "pygments_lexer": "ipython3",
   "version": "3.13.5"
  }
 },
 "nbformat": 4,
 "nbformat_minor": 5
}
